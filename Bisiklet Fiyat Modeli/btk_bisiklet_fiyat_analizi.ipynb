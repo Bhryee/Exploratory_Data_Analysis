{
  "nbformat": 4,
  "nbformat_minor": 0,
  "metadata": {
    "colab": {
      "provenance": [],
      "authorship_tag": "ABX9TyOFI6iGdmwAPeGfgohDA1Nn",
      "include_colab_link": true
    },
    "kernelspec": {
      "name": "python3",
      "display_name": "Python 3"
    },
    "language_info": {
      "name": "python"
    }
  },
  "cells": [
    {
      "cell_type": "markdown",
      "metadata": {
        "id": "view-in-github",
        "colab_type": "text"
      },
      "source": [
        "<a href=\"https://colab.research.google.com/github/Bhryee/Exploratory_Data_Analysis/blob/main/btk_bisiklet_fiyat_analizi.ipynb\" target=\"_parent\"><img src=\"https://colab.research.google.com/assets/colab-badge.svg\" alt=\"Open In Colab\"/></a>"
      ]
    },
    {
      "cell_type": "code",
      "execution_count": 2,
      "metadata": {
        "id": "-10ncFK4eIGJ"
      },
      "outputs": [],
      "source": [
        "import pandas as pd\n",
        "import numpy as np\n",
        "import tensorflow as tf\n",
        "import matplotlib.pyplot as plt\n",
        "import seaborn as sns"
      ]
    },
    {
      "cell_type": "code",
      "source": [
        "df = pd.read_excel(\"bisiklet_fiyatlari.xlsx\")"
      ],
      "metadata": {
        "id": "UsgGw_i6ehAU"
      },
      "execution_count": 3,
      "outputs": []
    },
    {
      "cell_type": "code",
      "source": [
        "df.head()"
      ],
      "metadata": {
        "colab": {
          "base_uri": "https://localhost:8080/",
          "height": 206
        },
        "id": "oNNJasvxfSV2",
        "outputId": "38079329-e77c-4127-ee58-65552e05018a"
      },
      "execution_count": 4,
      "outputs": [
        {
          "output_type": "execute_result",
          "data": {
            "text/plain": [
              "        Fiyat  BisikletOzellik1  BisikletOzellik2\n",
              "0  807.673876       1749.628226       1749.590668\n",
              "1  959.227520       1748.007826       1751.824206\n",
              "2  718.020033       1750.122967       1747.977026\n",
              "3  945.668885       1749.916440       1750.771646\n",
              "4  955.542968       1750.780519       1750.592430"
            ],
            "text/html": [
              "\n",
              "  <div id=\"df-4cdb5bc6-9630-4eb8-82fe-7331ad9a164d\" class=\"colab-df-container\">\n",
              "    <div>\n",
              "<style scoped>\n",
              "    .dataframe tbody tr th:only-of-type {\n",
              "        vertical-align: middle;\n",
              "    }\n",
              "\n",
              "    .dataframe tbody tr th {\n",
              "        vertical-align: top;\n",
              "    }\n",
              "\n",
              "    .dataframe thead th {\n",
              "        text-align: right;\n",
              "    }\n",
              "</style>\n",
              "<table border=\"1\" class=\"dataframe\">\n",
              "  <thead>\n",
              "    <tr style=\"text-align: right;\">\n",
              "      <th></th>\n",
              "      <th>Fiyat</th>\n",
              "      <th>BisikletOzellik1</th>\n",
              "      <th>BisikletOzellik2</th>\n",
              "    </tr>\n",
              "  </thead>\n",
              "  <tbody>\n",
              "    <tr>\n",
              "      <th>0</th>\n",
              "      <td>807.673876</td>\n",
              "      <td>1749.628226</td>\n",
              "      <td>1749.590668</td>\n",
              "    </tr>\n",
              "    <tr>\n",
              "      <th>1</th>\n",
              "      <td>959.227520</td>\n",
              "      <td>1748.007826</td>\n",
              "      <td>1751.824206</td>\n",
              "    </tr>\n",
              "    <tr>\n",
              "      <th>2</th>\n",
              "      <td>718.020033</td>\n",
              "      <td>1750.122967</td>\n",
              "      <td>1747.977026</td>\n",
              "    </tr>\n",
              "    <tr>\n",
              "      <th>3</th>\n",
              "      <td>945.668885</td>\n",
              "      <td>1749.916440</td>\n",
              "      <td>1750.771646</td>\n",
              "    </tr>\n",
              "    <tr>\n",
              "      <th>4</th>\n",
              "      <td>955.542968</td>\n",
              "      <td>1750.780519</td>\n",
              "      <td>1750.592430</td>\n",
              "    </tr>\n",
              "  </tbody>\n",
              "</table>\n",
              "</div>\n",
              "    <div class=\"colab-df-buttons\">\n",
              "\n",
              "  <div class=\"colab-df-container\">\n",
              "    <button class=\"colab-df-convert\" onclick=\"convertToInteractive('df-4cdb5bc6-9630-4eb8-82fe-7331ad9a164d')\"\n",
              "            title=\"Convert this dataframe to an interactive table.\"\n",
              "            style=\"display:none;\">\n",
              "\n",
              "  <svg xmlns=\"http://www.w3.org/2000/svg\" height=\"24px\" viewBox=\"0 -960 960 960\">\n",
              "    <path d=\"M120-120v-720h720v720H120Zm60-500h600v-160H180v160Zm220 220h160v-160H400v160Zm0 220h160v-160H400v160ZM180-400h160v-160H180v160Zm440 0h160v-160H620v160ZM180-180h160v-160H180v160Zm440 0h160v-160H620v160Z\"/>\n",
              "  </svg>\n",
              "    </button>\n",
              "\n",
              "  <style>\n",
              "    .colab-df-container {\n",
              "      display:flex;\n",
              "      gap: 12px;\n",
              "    }\n",
              "\n",
              "    .colab-df-convert {\n",
              "      background-color: #E8F0FE;\n",
              "      border: none;\n",
              "      border-radius: 50%;\n",
              "      cursor: pointer;\n",
              "      display: none;\n",
              "      fill: #1967D2;\n",
              "      height: 32px;\n",
              "      padding: 0 0 0 0;\n",
              "      width: 32px;\n",
              "    }\n",
              "\n",
              "    .colab-df-convert:hover {\n",
              "      background-color: #E2EBFA;\n",
              "      box-shadow: 0px 1px 2px rgba(60, 64, 67, 0.3), 0px 1px 3px 1px rgba(60, 64, 67, 0.15);\n",
              "      fill: #174EA6;\n",
              "    }\n",
              "\n",
              "    .colab-df-buttons div {\n",
              "      margin-bottom: 4px;\n",
              "    }\n",
              "\n",
              "    [theme=dark] .colab-df-convert {\n",
              "      background-color: #3B4455;\n",
              "      fill: #D2E3FC;\n",
              "    }\n",
              "\n",
              "    [theme=dark] .colab-df-convert:hover {\n",
              "      background-color: #434B5C;\n",
              "      box-shadow: 0px 1px 3px 1px rgba(0, 0, 0, 0.15);\n",
              "      filter: drop-shadow(0px 1px 2px rgba(0, 0, 0, 0.3));\n",
              "      fill: #FFFFFF;\n",
              "    }\n",
              "  </style>\n",
              "\n",
              "    <script>\n",
              "      const buttonEl =\n",
              "        document.querySelector('#df-4cdb5bc6-9630-4eb8-82fe-7331ad9a164d button.colab-df-convert');\n",
              "      buttonEl.style.display =\n",
              "        google.colab.kernel.accessAllowed ? 'block' : 'none';\n",
              "\n",
              "      async function convertToInteractive(key) {\n",
              "        const element = document.querySelector('#df-4cdb5bc6-9630-4eb8-82fe-7331ad9a164d');\n",
              "        const dataTable =\n",
              "          await google.colab.kernel.invokeFunction('convertToInteractive',\n",
              "                                                    [key], {});\n",
              "        if (!dataTable) return;\n",
              "\n",
              "        const docLinkHtml = 'Like what you see? Visit the ' +\n",
              "          '<a target=\"_blank\" href=https://colab.research.google.com/notebooks/data_table.ipynb>data table notebook</a>'\n",
              "          + ' to learn more about interactive tables.';\n",
              "        element.innerHTML = '';\n",
              "        dataTable['output_type'] = 'display_data';\n",
              "        await google.colab.output.renderOutput(dataTable, element);\n",
              "        const docLink = document.createElement('div');\n",
              "        docLink.innerHTML = docLinkHtml;\n",
              "        element.appendChild(docLink);\n",
              "      }\n",
              "    </script>\n",
              "  </div>\n",
              "\n",
              "\n",
              "<div id=\"df-1c187000-038d-43a8-9bdb-21d5d4adc1cf\">\n",
              "  <button class=\"colab-df-quickchart\" onclick=\"quickchart('df-1c187000-038d-43a8-9bdb-21d5d4adc1cf')\"\n",
              "            title=\"Suggest charts.\"\n",
              "            style=\"display:none;\">\n",
              "\n",
              "<svg xmlns=\"http://www.w3.org/2000/svg\" height=\"24px\"viewBox=\"0 0 24 24\"\n",
              "     width=\"24px\">\n",
              "    <g>\n",
              "        <path d=\"M19 3H5c-1.1 0-2 .9-2 2v14c0 1.1.9 2 2 2h14c1.1 0 2-.9 2-2V5c0-1.1-.9-2-2-2zM9 17H7v-7h2v7zm4 0h-2V7h2v10zm4 0h-2v-4h2v4z\"/>\n",
              "    </g>\n",
              "</svg>\n",
              "  </button>\n",
              "\n",
              "<style>\n",
              "  .colab-df-quickchart {\n",
              "      --bg-color: #E8F0FE;\n",
              "      --fill-color: #1967D2;\n",
              "      --hover-bg-color: #E2EBFA;\n",
              "      --hover-fill-color: #174EA6;\n",
              "      --disabled-fill-color: #AAA;\n",
              "      --disabled-bg-color: #DDD;\n",
              "  }\n",
              "\n",
              "  [theme=dark] .colab-df-quickchart {\n",
              "      --bg-color: #3B4455;\n",
              "      --fill-color: #D2E3FC;\n",
              "      --hover-bg-color: #434B5C;\n",
              "      --hover-fill-color: #FFFFFF;\n",
              "      --disabled-bg-color: #3B4455;\n",
              "      --disabled-fill-color: #666;\n",
              "  }\n",
              "\n",
              "  .colab-df-quickchart {\n",
              "    background-color: var(--bg-color);\n",
              "    border: none;\n",
              "    border-radius: 50%;\n",
              "    cursor: pointer;\n",
              "    display: none;\n",
              "    fill: var(--fill-color);\n",
              "    height: 32px;\n",
              "    padding: 0;\n",
              "    width: 32px;\n",
              "  }\n",
              "\n",
              "  .colab-df-quickchart:hover {\n",
              "    background-color: var(--hover-bg-color);\n",
              "    box-shadow: 0 1px 2px rgba(60, 64, 67, 0.3), 0 1px 3px 1px rgba(60, 64, 67, 0.15);\n",
              "    fill: var(--button-hover-fill-color);\n",
              "  }\n",
              "\n",
              "  .colab-df-quickchart-complete:disabled,\n",
              "  .colab-df-quickchart-complete:disabled:hover {\n",
              "    background-color: var(--disabled-bg-color);\n",
              "    fill: var(--disabled-fill-color);\n",
              "    box-shadow: none;\n",
              "  }\n",
              "\n",
              "  .colab-df-spinner {\n",
              "    border: 2px solid var(--fill-color);\n",
              "    border-color: transparent;\n",
              "    border-bottom-color: var(--fill-color);\n",
              "    animation:\n",
              "      spin 1s steps(1) infinite;\n",
              "  }\n",
              "\n",
              "  @keyframes spin {\n",
              "    0% {\n",
              "      border-color: transparent;\n",
              "      border-bottom-color: var(--fill-color);\n",
              "      border-left-color: var(--fill-color);\n",
              "    }\n",
              "    20% {\n",
              "      border-color: transparent;\n",
              "      border-left-color: var(--fill-color);\n",
              "      border-top-color: var(--fill-color);\n",
              "    }\n",
              "    30% {\n",
              "      border-color: transparent;\n",
              "      border-left-color: var(--fill-color);\n",
              "      border-top-color: var(--fill-color);\n",
              "      border-right-color: var(--fill-color);\n",
              "    }\n",
              "    40% {\n",
              "      border-color: transparent;\n",
              "      border-right-color: var(--fill-color);\n",
              "      border-top-color: var(--fill-color);\n",
              "    }\n",
              "    60% {\n",
              "      border-color: transparent;\n",
              "      border-right-color: var(--fill-color);\n",
              "    }\n",
              "    80% {\n",
              "      border-color: transparent;\n",
              "      border-right-color: var(--fill-color);\n",
              "      border-bottom-color: var(--fill-color);\n",
              "    }\n",
              "    90% {\n",
              "      border-color: transparent;\n",
              "      border-bottom-color: var(--fill-color);\n",
              "    }\n",
              "  }\n",
              "</style>\n",
              "\n",
              "  <script>\n",
              "    async function quickchart(key) {\n",
              "      const quickchartButtonEl =\n",
              "        document.querySelector('#' + key + ' button');\n",
              "      quickchartButtonEl.disabled = true;  // To prevent multiple clicks.\n",
              "      quickchartButtonEl.classList.add('colab-df-spinner');\n",
              "      try {\n",
              "        const charts = await google.colab.kernel.invokeFunction(\n",
              "            'suggestCharts', [key], {});\n",
              "      } catch (error) {\n",
              "        console.error('Error during call to suggestCharts:', error);\n",
              "      }\n",
              "      quickchartButtonEl.classList.remove('colab-df-spinner');\n",
              "      quickchartButtonEl.classList.add('colab-df-quickchart-complete');\n",
              "    }\n",
              "    (() => {\n",
              "      let quickchartButtonEl =\n",
              "        document.querySelector('#df-1c187000-038d-43a8-9bdb-21d5d4adc1cf button');\n",
              "      quickchartButtonEl.style.display =\n",
              "        google.colab.kernel.accessAllowed ? 'block' : 'none';\n",
              "    })();\n",
              "  </script>\n",
              "</div>\n",
              "    </div>\n",
              "  </div>\n"
            ]
          },
          "metadata": {},
          "execution_count": 4
        }
      ]
    },
    {
      "cell_type": "code",
      "source": [
        "#sns.pairplot(df)"
      ],
      "metadata": {
        "id": "Y-sCqb_6fT-v"
      },
      "execution_count": 5,
      "outputs": []
    },
    {
      "cell_type": "markdown",
      "source": [
        "##Veriyi test/train olarak ikiye ayırmak"
      ],
      "metadata": {
        "id": "j7gRZjtWf-z4"
      }
    },
    {
      "cell_type": "code",
      "source": [
        "from sklearn.model_selection import train_test_split"
      ],
      "metadata": {
        "id": "sYFgIsNmgEWj"
      },
      "execution_count": 6,
      "outputs": []
    },
    {
      "cell_type": "code",
      "source": [
        "# y = wx + b\n",
        "#x = feature (özellik)\n",
        "X = df.drop(columns = \"Fiyat\").values\n",
        "X"
      ],
      "metadata": {
        "colab": {
          "base_uri": "https://localhost:8080/"
        },
        "id": "xoycBYungWyA",
        "outputId": "f7a755e0-4543-4a3f-f757-988d4d099370"
      },
      "execution_count": 7,
      "outputs": [
        {
          "output_type": "execute_result",
          "data": {
            "text/plain": [
              "array([[1749.628226, 1749.590668],\n",
              "       [1748.007826, 1751.824206],\n",
              "       [1750.122967, 1747.977026],\n",
              "       ...,\n",
              "       [1752.540381, 1747.98331 ],\n",
              "       [1751.34929 , 1747.484989],\n",
              "       [1748.656426, 1752.539962]])"
            ]
          },
          "metadata": {},
          "execution_count": 7
        }
      ]
    },
    {
      "cell_type": "code",
      "source": [
        "#y = label (etiket)\n",
        "y = df[\"Fiyat\"].values #values demezsek pandas olur. values dersek numpy array (dizisi) olur."
      ],
      "metadata": {
        "id": "5GjxpXpXg6WR"
      },
      "execution_count": 8,
      "outputs": []
    },
    {
      "cell_type": "code",
      "source": [
        "X_train, X_test, y_train, y_test = train_test_split(X, y, test_size = 0.33, random_state = 15)"
      ],
      "metadata": {
        "id": "2ifspBhri_Tt"
      },
      "execution_count": 9,
      "outputs": []
    },
    {
      "cell_type": "code",
      "source": [
        "X_train.shape"
      ],
      "metadata": {
        "colab": {
          "base_uri": "https://localhost:8080/"
        },
        "id": "C7UlZIMFkIx_",
        "outputId": "f91b8656-7d53-43b3-a6fd-2663ebeb6a17"
      },
      "execution_count": 10,
      "outputs": [
        {
          "output_type": "execute_result",
          "data": {
            "text/plain": [
              "(670, 2)"
            ]
          },
          "metadata": {},
          "execution_count": 10
        }
      ]
    },
    {
      "cell_type": "code",
      "source": [
        "X_test.shape"
      ],
      "metadata": {
        "colab": {
          "base_uri": "https://localhost:8080/"
        },
        "id": "0DizZSflkKoc",
        "outputId": "86ce1b8f-20c4-4db7-f684-9d4511d486ef"
      },
      "execution_count": 11,
      "outputs": [
        {
          "output_type": "execute_result",
          "data": {
            "text/plain": [
              "(330, 2)"
            ]
          },
          "metadata": {},
          "execution_count": 11
        }
      ]
    },
    {
      "cell_type": "markdown",
      "source": [
        "##Scaling"
      ],
      "metadata": {
        "id": "pPkiZYQol5yF"
      }
    },
    {
      "cell_type": "code",
      "source": [
        "from sklearn.preprocessing import MinMaxScaler"
      ],
      "metadata": {
        "id": "PYYWckwQkNyg"
      },
      "execution_count": 12,
      "outputs": []
    },
    {
      "cell_type": "code",
      "source": [
        "scaler = MinMaxScaler()\n",
        "scaler.fit(X_train)\n",
        "X_train = scaler.transform(X_train)\n",
        "X_test = scaler.transform(X_test)"
      ],
      "metadata": {
        "id": "dbhxlKfKmFp_"
      },
      "execution_count": 13,
      "outputs": []
    },
    {
      "cell_type": "code",
      "source": [
        "#X_test"
      ],
      "metadata": {
        "id": "xKUY3bJOmWof"
      },
      "execution_count": 14,
      "outputs": []
    },
    {
      "cell_type": "code",
      "source": [
        "from tensorflow.keras.models import Sequential #modeli oluşturduk\n",
        "\n",
        "from tensorflow.keras.layers import Dense #model içerisine katmanları koyuyoruz."
      ],
      "metadata": {
        "id": "v-jH5WXtmY6i"
      },
      "execution_count": 15,
      "outputs": []
    },
    {
      "cell_type": "code",
      "source": [
        "model = Sequential()\n",
        "model.add(Dense(4, activation = \"relu\")) #5 sayısı nöron sayısı\n",
        "model.add(Dense(4, activation = \"relu\"))\n",
        "model.add(Dense(4, activation = \"relu\")) #kaç tane gizli katman olmasını istiyorsak o kadar kopyala yapıştır yapıyoruz.\n",
        "\n",
        "model.add(Dense(1)) #çıktı nöronu\n",
        "\n",
        "model.compile(optimizer = \"rmsprop\", loss = \"mse\") #compile yapılan tüm işlemleri birleştirir. çalıştırmaya hazır hale getirir.\n",
        "#optimizer = min step-size değeri bulmak\n",
        "#loss = kayıp, mse = mean squared error"
      ],
      "metadata": {
        "id": "LgcEU-Mon1DI"
      },
      "execution_count": 16,
      "outputs": []
    },
    {
      "cell_type": "code",
      "source": [
        "model.fit(X_train, y_train, epochs = 250)"
      ],
      "metadata": {
        "colab": {
          "base_uri": "https://localhost:8080/"
        },
        "id": "CJGuCoEwqRvK",
        "outputId": "5067f781-6af7-414c-deaa-f0056c1efa9f"
      },
      "execution_count": 17,
      "outputs": [
        {
          "output_type": "stream",
          "name": "stdout",
          "text": [
            "Epoch 1/250\n",
            "21/21 [==============================] - 1s 2ms/step - loss: 795214.1875\n",
            "Epoch 2/250\n",
            "21/21 [==============================] - 0s 2ms/step - loss: 794880.5000\n",
            "Epoch 3/250\n",
            "21/21 [==============================] - 0s 2ms/step - loss: 794510.1875\n",
            "Epoch 4/250\n",
            "21/21 [==============================] - 0s 2ms/step - loss: 794056.0000\n",
            "Epoch 5/250\n",
            "21/21 [==============================] - 0s 2ms/step - loss: 793483.4375\n",
            "Epoch 6/250\n",
            "21/21 [==============================] - 0s 2ms/step - loss: 792793.8125\n",
            "Epoch 7/250\n",
            "21/21 [==============================] - 0s 2ms/step - loss: 791981.3750\n",
            "Epoch 8/250\n",
            "21/21 [==============================] - 0s 2ms/step - loss: 791035.4375\n",
            "Epoch 9/250\n",
            "21/21 [==============================] - 0s 2ms/step - loss: 789938.4375\n",
            "Epoch 10/250\n",
            "21/21 [==============================] - 0s 2ms/step - loss: 788686.6250\n",
            "Epoch 11/250\n",
            "21/21 [==============================] - 0s 3ms/step - loss: 787264.6875\n",
            "Epoch 12/250\n",
            "21/21 [==============================] - 0s 2ms/step - loss: 785662.5625\n",
            "Epoch 13/250\n",
            "21/21 [==============================] - 0s 2ms/step - loss: 783863.1875\n",
            "Epoch 14/250\n",
            "21/21 [==============================] - 0s 2ms/step - loss: 781843.9375\n",
            "Epoch 15/250\n",
            "21/21 [==============================] - 0s 2ms/step - loss: 779608.0625\n",
            "Epoch 16/250\n",
            "21/21 [==============================] - 0s 2ms/step - loss: 777135.1875\n",
            "Epoch 17/250\n",
            "21/21 [==============================] - 0s 2ms/step - loss: 774408.9375\n",
            "Epoch 18/250\n",
            "21/21 [==============================] - 0s 2ms/step - loss: 771412.7500\n",
            "Epoch 19/250\n",
            "21/21 [==============================] - 0s 2ms/step - loss: 768126.0000\n",
            "Epoch 20/250\n",
            "21/21 [==============================] - 0s 2ms/step - loss: 764558.7500\n",
            "Epoch 21/250\n",
            "21/21 [==============================] - 0s 13ms/step - loss: 760669.5000\n",
            "Epoch 22/250\n",
            "21/21 [==============================] - 0s 2ms/step - loss: 756470.3750\n",
            "Epoch 23/250\n",
            "21/21 [==============================] - 0s 2ms/step - loss: 751919.0625\n",
            "Epoch 24/250\n",
            "21/21 [==============================] - 0s 2ms/step - loss: 746983.1875\n",
            "Epoch 25/250\n",
            "21/21 [==============================] - 0s 2ms/step - loss: 741720.8125\n",
            "Epoch 26/250\n",
            "21/21 [==============================] - 0s 2ms/step - loss: 736060.3750\n",
            "Epoch 27/250\n",
            "21/21 [==============================] - 0s 2ms/step - loss: 729946.2500\n",
            "Epoch 28/250\n",
            "21/21 [==============================] - 0s 2ms/step - loss: 723444.6875\n",
            "Epoch 29/250\n",
            "21/21 [==============================] - 0s 2ms/step - loss: 716511.7500\n",
            "Epoch 30/250\n",
            "21/21 [==============================] - 0s 2ms/step - loss: 709167.1875\n",
            "Epoch 31/250\n",
            "21/21 [==============================] - 0s 2ms/step - loss: 701316.5625\n",
            "Epoch 32/250\n",
            "21/21 [==============================] - 0s 2ms/step - loss: 693018.0000\n",
            "Epoch 33/250\n",
            "21/21 [==============================] - 0s 2ms/step - loss: 684213.7500\n",
            "Epoch 34/250\n",
            "21/21 [==============================] - 0s 2ms/step - loss: 674958.6875\n",
            "Epoch 35/250\n",
            "21/21 [==============================] - 0s 3ms/step - loss: 665243.8750\n",
            "Epoch 36/250\n",
            "21/21 [==============================] - 0s 2ms/step - loss: 654956.6250\n",
            "Epoch 37/250\n",
            "21/21 [==============================] - 0s 3ms/step - loss: 644121.2500\n",
            "Epoch 38/250\n",
            "21/21 [==============================] - 0s 2ms/step - loss: 632802.3125\n",
            "Epoch 39/250\n",
            "21/21 [==============================] - 0s 2ms/step - loss: 620947.3125\n",
            "Epoch 40/250\n",
            "21/21 [==============================] - 0s 3ms/step - loss: 608515.3750\n",
            "Epoch 41/250\n",
            "21/21 [==============================] - 0s 3ms/step - loss: 595693.8750\n",
            "Epoch 42/250\n",
            "21/21 [==============================] - 0s 2ms/step - loss: 582185.4375\n",
            "Epoch 43/250\n",
            "21/21 [==============================] - 0s 2ms/step - loss: 568093.6250\n",
            "Epoch 44/250\n",
            "21/21 [==============================] - 0s 2ms/step - loss: 553524.0625\n",
            "Epoch 45/250\n",
            "21/21 [==============================] - 0s 2ms/step - loss: 538380.1250\n",
            "Epoch 46/250\n",
            "21/21 [==============================] - 0s 3ms/step - loss: 522758.0312\n",
            "Epoch 47/250\n",
            "21/21 [==============================] - 0s 2ms/step - loss: 506739.8125\n",
            "Epoch 48/250\n",
            "21/21 [==============================] - 0s 2ms/step - loss: 490070.9375\n",
            "Epoch 49/250\n",
            "21/21 [==============================] - 0s 2ms/step - loss: 472930.3750\n",
            "Epoch 50/250\n",
            "21/21 [==============================] - 0s 2ms/step - loss: 455489.5625\n",
            "Epoch 51/250\n",
            "21/21 [==============================] - 0s 2ms/step - loss: 437495.5312\n",
            "Epoch 52/250\n",
            "21/21 [==============================] - 0s 2ms/step - loss: 419106.0625\n",
            "Epoch 53/250\n",
            "21/21 [==============================] - 0s 2ms/step - loss: 400311.0938\n",
            "Epoch 54/250\n",
            "21/21 [==============================] - 0s 2ms/step - loss: 381218.4688\n",
            "Epoch 55/250\n",
            "21/21 [==============================] - 0s 2ms/step - loss: 361769.5312\n",
            "Epoch 56/250\n",
            "21/21 [==============================] - 0s 2ms/step - loss: 342139.0000\n",
            "Epoch 57/250\n",
            "21/21 [==============================] - 0s 2ms/step - loss: 322168.4062\n",
            "Epoch 58/250\n",
            "21/21 [==============================] - 0s 2ms/step - loss: 302094.2812\n",
            "Epoch 59/250\n",
            "21/21 [==============================] - 0s 2ms/step - loss: 281957.8125\n",
            "Epoch 60/250\n",
            "21/21 [==============================] - 0s 2ms/step - loss: 261736.6875\n",
            "Epoch 61/250\n",
            "21/21 [==============================] - 0s 2ms/step - loss: 241656.5938\n",
            "Epoch 62/250\n",
            "21/21 [==============================] - 0s 2ms/step - loss: 221661.4219\n",
            "Epoch 63/250\n",
            "21/21 [==============================] - 0s 2ms/step - loss: 201874.1719\n",
            "Epoch 64/250\n",
            "21/21 [==============================] - 0s 2ms/step - loss: 182337.1406\n",
            "Epoch 65/250\n",
            "21/21 [==============================] - 0s 2ms/step - loss: 163255.0000\n",
            "Epoch 66/250\n",
            "21/21 [==============================] - 0s 3ms/step - loss: 144609.8125\n",
            "Epoch 67/250\n",
            "21/21 [==============================] - 0s 3ms/step - loss: 126574.9844\n",
            "Epoch 68/250\n",
            "21/21 [==============================] - 0s 2ms/step - loss: 109261.1094\n",
            "Epoch 69/250\n",
            "21/21 [==============================] - 0s 2ms/step - loss: 92828.2344\n",
            "Epoch 70/250\n",
            "21/21 [==============================] - 0s 2ms/step - loss: 77335.6406\n",
            "Epoch 71/250\n",
            "21/21 [==============================] - 0s 2ms/step - loss: 63027.3008\n",
            "Epoch 72/250\n",
            "21/21 [==============================] - 0s 2ms/step - loss: 49935.1367\n",
            "Epoch 73/250\n",
            "21/21 [==============================] - 0s 2ms/step - loss: 38359.2891\n",
            "Epoch 74/250\n",
            "21/21 [==============================] - 0s 2ms/step - loss: 28323.5859\n",
            "Epoch 75/250\n",
            "21/21 [==============================] - 0s 2ms/step - loss: 20002.1152\n",
            "Epoch 76/250\n",
            "21/21 [==============================] - 0s 2ms/step - loss: 13447.9385\n",
            "Epoch 77/250\n",
            "21/21 [==============================] - 0s 3ms/step - loss: 8829.3145\n",
            "Epoch 78/250\n",
            "21/21 [==============================] - 0s 2ms/step - loss: 6131.0132\n",
            "Epoch 79/250\n",
            "21/21 [==============================] - 0s 3ms/step - loss: 5028.9409\n",
            "Epoch 80/250\n",
            "21/21 [==============================] - 0s 2ms/step - loss: 4780.2803\n",
            "Epoch 81/250\n",
            "21/21 [==============================] - 0s 2ms/step - loss: 4688.0903\n",
            "Epoch 82/250\n",
            "21/21 [==============================] - 0s 2ms/step - loss: 4582.5615\n",
            "Epoch 83/250\n",
            "21/21 [==============================] - 0s 2ms/step - loss: 4490.0054\n",
            "Epoch 84/250\n",
            "21/21 [==============================] - 0s 2ms/step - loss: 4401.6196\n",
            "Epoch 85/250\n",
            "21/21 [==============================] - 0s 2ms/step - loss: 4283.5332\n",
            "Epoch 86/250\n",
            "21/21 [==============================] - 0s 3ms/step - loss: 4220.1641\n",
            "Epoch 87/250\n",
            "21/21 [==============================] - 0s 3ms/step - loss: 4118.2759\n",
            "Epoch 88/250\n",
            "21/21 [==============================] - 0s 2ms/step - loss: 4006.7358\n",
            "Epoch 89/250\n",
            "21/21 [==============================] - 0s 2ms/step - loss: 3902.9258\n",
            "Epoch 90/250\n",
            "21/21 [==============================] - 0s 2ms/step - loss: 3809.5359\n",
            "Epoch 91/250\n",
            "21/21 [==============================] - 0s 2ms/step - loss: 3715.4285\n",
            "Epoch 92/250\n",
            "21/21 [==============================] - 0s 3ms/step - loss: 3605.4668\n",
            "Epoch 93/250\n",
            "21/21 [==============================] - 0s 2ms/step - loss: 3519.5193\n",
            "Epoch 94/250\n",
            "21/21 [==============================] - 0s 3ms/step - loss: 3430.3418\n",
            "Epoch 95/250\n",
            "21/21 [==============================] - 0s 3ms/step - loss: 3333.5020\n",
            "Epoch 96/250\n",
            "21/21 [==============================] - 0s 3ms/step - loss: 3243.6926\n",
            "Epoch 97/250\n",
            "21/21 [==============================] - 0s 3ms/step - loss: 3145.8826\n",
            "Epoch 98/250\n",
            "21/21 [==============================] - 0s 3ms/step - loss: 3060.4993\n",
            "Epoch 99/250\n",
            "21/21 [==============================] - 0s 3ms/step - loss: 2970.3611\n",
            "Epoch 100/250\n",
            "21/21 [==============================] - 0s 3ms/step - loss: 2880.4861\n",
            "Epoch 101/250\n",
            "21/21 [==============================] - 0s 2ms/step - loss: 2792.9221\n",
            "Epoch 102/250\n",
            "21/21 [==============================] - 0s 2ms/step - loss: 2712.1450\n",
            "Epoch 103/250\n",
            "21/21 [==============================] - 0s 3ms/step - loss: 2639.4404\n",
            "Epoch 104/250\n",
            "21/21 [==============================] - 0s 3ms/step - loss: 2561.3726\n",
            "Epoch 105/250\n",
            "21/21 [==============================] - 0s 2ms/step - loss: 2481.2979\n",
            "Epoch 106/250\n",
            "21/21 [==============================] - 0s 2ms/step - loss: 2398.9897\n",
            "Epoch 107/250\n",
            "21/21 [==============================] - 0s 2ms/step - loss: 2311.6084\n",
            "Epoch 108/250\n",
            "21/21 [==============================] - 0s 3ms/step - loss: 2243.4412\n",
            "Epoch 109/250\n",
            "21/21 [==============================] - 0s 3ms/step - loss: 2165.7961\n",
            "Epoch 110/250\n",
            "21/21 [==============================] - 0s 2ms/step - loss: 2087.8889\n",
            "Epoch 111/250\n",
            "21/21 [==============================] - 0s 2ms/step - loss: 2026.6193\n",
            "Epoch 112/250\n",
            "21/21 [==============================] - 0s 2ms/step - loss: 1951.7271\n",
            "Epoch 113/250\n",
            "21/21 [==============================] - 0s 2ms/step - loss: 1881.6765\n",
            "Epoch 114/250\n",
            "21/21 [==============================] - 0s 2ms/step - loss: 1807.6903\n",
            "Epoch 115/250\n",
            "21/21 [==============================] - 0s 2ms/step - loss: 1737.6683\n",
            "Epoch 116/250\n",
            "21/21 [==============================] - 0s 2ms/step - loss: 1661.8977\n",
            "Epoch 117/250\n",
            "21/21 [==============================] - 0s 2ms/step - loss: 1586.9537\n",
            "Epoch 118/250\n",
            "21/21 [==============================] - 0s 2ms/step - loss: 1519.9675\n",
            "Epoch 119/250\n",
            "21/21 [==============================] - 0s 2ms/step - loss: 1462.3634\n",
            "Epoch 120/250\n",
            "21/21 [==============================] - 0s 2ms/step - loss: 1399.4359\n",
            "Epoch 121/250\n",
            "21/21 [==============================] - 0s 2ms/step - loss: 1338.1915\n",
            "Epoch 122/250\n",
            "21/21 [==============================] - 0s 2ms/step - loss: 1282.7346\n",
            "Epoch 123/250\n",
            "21/21 [==============================] - 0s 2ms/step - loss: 1226.5338\n",
            "Epoch 124/250\n",
            "21/21 [==============================] - 0s 2ms/step - loss: 1170.4381\n",
            "Epoch 125/250\n",
            "21/21 [==============================] - 0s 2ms/step - loss: 1108.6403\n",
            "Epoch 126/250\n",
            "21/21 [==============================] - 0s 2ms/step - loss: 1051.1675\n",
            "Epoch 127/250\n",
            "21/21 [==============================] - 0s 2ms/step - loss: 1005.0754\n",
            "Epoch 128/250\n",
            "21/21 [==============================] - 0s 2ms/step - loss: 956.1667\n",
            "Epoch 129/250\n",
            "21/21 [==============================] - 0s 2ms/step - loss: 910.4352\n",
            "Epoch 130/250\n",
            "21/21 [==============================] - 0s 2ms/step - loss: 864.8250\n",
            "Epoch 131/250\n",
            "21/21 [==============================] - 0s 2ms/step - loss: 816.9534\n",
            "Epoch 132/250\n",
            "21/21 [==============================] - 0s 2ms/step - loss: 778.4688\n",
            "Epoch 133/250\n",
            "21/21 [==============================] - 0s 2ms/step - loss: 733.5187\n",
            "Epoch 134/250\n",
            "21/21 [==============================] - 0s 2ms/step - loss: 699.9329\n",
            "Epoch 135/250\n",
            "21/21 [==============================] - 0s 2ms/step - loss: 661.0112\n",
            "Epoch 136/250\n",
            "21/21 [==============================] - 0s 2ms/step - loss: 630.0535\n",
            "Epoch 137/250\n",
            "21/21 [==============================] - 0s 2ms/step - loss: 592.8012\n",
            "Epoch 138/250\n",
            "21/21 [==============================] - 0s 2ms/step - loss: 556.3892\n",
            "Epoch 139/250\n",
            "21/21 [==============================] - 0s 2ms/step - loss: 522.8453\n",
            "Epoch 140/250\n",
            "21/21 [==============================] - 0s 2ms/step - loss: 484.6440\n",
            "Epoch 141/250\n",
            "21/21 [==============================] - 0s 2ms/step - loss: 449.7905\n",
            "Epoch 142/250\n",
            "21/21 [==============================] - 0s 2ms/step - loss: 420.6985\n",
            "Epoch 143/250\n",
            "21/21 [==============================] - 0s 2ms/step - loss: 389.4624\n",
            "Epoch 144/250\n",
            "21/21 [==============================] - 0s 2ms/step - loss: 361.4459\n",
            "Epoch 145/250\n",
            "21/21 [==============================] - 0s 2ms/step - loss: 338.4067\n",
            "Epoch 146/250\n",
            "21/21 [==============================] - 0s 2ms/step - loss: 313.8225\n",
            "Epoch 147/250\n",
            "21/21 [==============================] - 0s 2ms/step - loss: 290.2435\n",
            "Epoch 148/250\n",
            "21/21 [==============================] - 0s 2ms/step - loss: 270.9988\n",
            "Epoch 149/250\n",
            "21/21 [==============================] - 0s 2ms/step - loss: 248.9863\n",
            "Epoch 150/250\n",
            "21/21 [==============================] - 0s 2ms/step - loss: 230.9302\n",
            "Epoch 151/250\n",
            "21/21 [==============================] - 0s 2ms/step - loss: 215.0078\n",
            "Epoch 152/250\n",
            "21/21 [==============================] - 0s 2ms/step - loss: 199.2918\n",
            "Epoch 153/250\n",
            "21/21 [==============================] - 0s 2ms/step - loss: 184.2098\n",
            "Epoch 154/250\n",
            "21/21 [==============================] - 0s 2ms/step - loss: 170.7040\n",
            "Epoch 155/250\n",
            "21/21 [==============================] - 0s 2ms/step - loss: 159.7628\n",
            "Epoch 156/250\n",
            "21/21 [==============================] - 0s 2ms/step - loss: 148.7611\n",
            "Epoch 157/250\n",
            "21/21 [==============================] - 0s 2ms/step - loss: 138.4030\n",
            "Epoch 158/250\n",
            "21/21 [==============================] - 0s 2ms/step - loss: 129.3089\n",
            "Epoch 159/250\n",
            "21/21 [==============================] - 0s 2ms/step - loss: 121.9616\n",
            "Epoch 160/250\n",
            "21/21 [==============================] - 0s 2ms/step - loss: 113.5928\n",
            "Epoch 161/250\n",
            "21/21 [==============================] - 0s 2ms/step - loss: 109.7851\n",
            "Epoch 162/250\n",
            "21/21 [==============================] - 0s 2ms/step - loss: 104.8777\n",
            "Epoch 163/250\n",
            "21/21 [==============================] - 0s 2ms/step - loss: 100.6107\n",
            "Epoch 164/250\n",
            "21/21 [==============================] - 0s 3ms/step - loss: 97.6084\n",
            "Epoch 165/250\n",
            "21/21 [==============================] - 0s 2ms/step - loss: 93.4147\n",
            "Epoch 166/250\n",
            "21/21 [==============================] - 0s 2ms/step - loss: 91.5347\n",
            "Epoch 167/250\n",
            "21/21 [==============================] - 0s 2ms/step - loss: 87.4864\n",
            "Epoch 168/250\n",
            "21/21 [==============================] - 0s 2ms/step - loss: 85.4838\n",
            "Epoch 169/250\n",
            "21/21 [==============================] - 0s 2ms/step - loss: 84.0041\n",
            "Epoch 170/250\n",
            "21/21 [==============================] - 0s 2ms/step - loss: 82.0735\n",
            "Epoch 171/250\n",
            "21/21 [==============================] - 0s 2ms/step - loss: 81.6195\n",
            "Epoch 172/250\n",
            "21/21 [==============================] - 0s 2ms/step - loss: 79.9663\n",
            "Epoch 173/250\n",
            "21/21 [==============================] - 0s 2ms/step - loss: 80.0722\n",
            "Epoch 174/250\n",
            "21/21 [==============================] - 0s 2ms/step - loss: 78.1880\n",
            "Epoch 175/250\n",
            "21/21 [==============================] - 0s 2ms/step - loss: 77.0907\n",
            "Epoch 176/250\n",
            "21/21 [==============================] - 0s 2ms/step - loss: 77.8532\n",
            "Epoch 177/250\n",
            "21/21 [==============================] - 0s 2ms/step - loss: 78.0341\n",
            "Epoch 178/250\n",
            "21/21 [==============================] - 0s 2ms/step - loss: 77.8370\n",
            "Epoch 179/250\n",
            "21/21 [==============================] - 0s 2ms/step - loss: 77.4484\n",
            "Epoch 180/250\n",
            "21/21 [==============================] - 0s 2ms/step - loss: 75.7604\n",
            "Epoch 181/250\n",
            "21/21 [==============================] - 0s 2ms/step - loss: 76.4614\n",
            "Epoch 182/250\n",
            "21/21 [==============================] - 0s 2ms/step - loss: 76.5651\n",
            "Epoch 183/250\n",
            "21/21 [==============================] - 0s 2ms/step - loss: 75.6048\n",
            "Epoch 184/250\n",
            "21/21 [==============================] - 0s 2ms/step - loss: 76.3222\n",
            "Epoch 185/250\n",
            "21/21 [==============================] - 0s 2ms/step - loss: 74.8091\n",
            "Epoch 186/250\n",
            "21/21 [==============================] - 0s 2ms/step - loss: 74.8951\n",
            "Epoch 187/250\n",
            "21/21 [==============================] - 0s 2ms/step - loss: 74.9567\n",
            "Epoch 188/250\n",
            "21/21 [==============================] - 0s 2ms/step - loss: 74.5313\n",
            "Epoch 189/250\n",
            "21/21 [==============================] - 0s 2ms/step - loss: 75.6940\n",
            "Epoch 190/250\n",
            "21/21 [==============================] - 0s 2ms/step - loss: 73.5706\n",
            "Epoch 191/250\n",
            "21/21 [==============================] - 0s 2ms/step - loss: 74.9020\n",
            "Epoch 192/250\n",
            "21/21 [==============================] - 0s 2ms/step - loss: 75.2416\n",
            "Epoch 193/250\n",
            "21/21 [==============================] - 0s 2ms/step - loss: 76.7094\n",
            "Epoch 194/250\n",
            "21/21 [==============================] - 0s 2ms/step - loss: 74.7739\n",
            "Epoch 195/250\n",
            "21/21 [==============================] - 0s 2ms/step - loss: 75.2653\n",
            "Epoch 196/250\n",
            "21/21 [==============================] - 0s 2ms/step - loss: 75.4687\n",
            "Epoch 197/250\n",
            "21/21 [==============================] - 0s 2ms/step - loss: 75.0080\n",
            "Epoch 198/250\n",
            "21/21 [==============================] - 0s 2ms/step - loss: 74.6065\n",
            "Epoch 199/250\n",
            "21/21 [==============================] - 0s 2ms/step - loss: 76.5728\n",
            "Epoch 200/250\n",
            "21/21 [==============================] - 0s 2ms/step - loss: 74.2097\n",
            "Epoch 201/250\n",
            "21/21 [==============================] - 0s 2ms/step - loss: 75.0617\n",
            "Epoch 202/250\n",
            "21/21 [==============================] - 0s 2ms/step - loss: 73.7531\n",
            "Epoch 203/250\n",
            "21/21 [==============================] - 0s 2ms/step - loss: 74.5825\n",
            "Epoch 204/250\n",
            "21/21 [==============================] - 0s 2ms/step - loss: 76.7951\n",
            "Epoch 205/250\n",
            "21/21 [==============================] - 0s 2ms/step - loss: 75.2287\n",
            "Epoch 206/250\n",
            "21/21 [==============================] - 0s 2ms/step - loss: 75.8691\n",
            "Epoch 207/250\n",
            "21/21 [==============================] - 0s 2ms/step - loss: 74.5300\n",
            "Epoch 208/250\n",
            "21/21 [==============================] - 0s 2ms/step - loss: 74.3013\n",
            "Epoch 209/250\n",
            "21/21 [==============================] - 0s 2ms/step - loss: 75.5003\n",
            "Epoch 210/250\n",
            "21/21 [==============================] - 0s 2ms/step - loss: 74.8624\n",
            "Epoch 211/250\n",
            "21/21 [==============================] - 0s 2ms/step - loss: 73.8257\n",
            "Epoch 212/250\n",
            "21/21 [==============================] - 0s 2ms/step - loss: 75.1243\n",
            "Epoch 213/250\n",
            "21/21 [==============================] - 0s 2ms/step - loss: 75.1706\n",
            "Epoch 214/250\n",
            "21/21 [==============================] - 0s 2ms/step - loss: 73.8820\n",
            "Epoch 215/250\n",
            "21/21 [==============================] - 0s 2ms/step - loss: 74.9541\n",
            "Epoch 216/250\n",
            "21/21 [==============================] - 0s 2ms/step - loss: 74.7836\n",
            "Epoch 217/250\n",
            "21/21 [==============================] - 0s 2ms/step - loss: 75.0248\n",
            "Epoch 218/250\n",
            "21/21 [==============================] - 0s 2ms/step - loss: 75.9595\n",
            "Epoch 219/250\n",
            "21/21 [==============================] - 0s 2ms/step - loss: 74.9157\n",
            "Epoch 220/250\n",
            "21/21 [==============================] - 0s 2ms/step - loss: 75.3559\n",
            "Epoch 221/250\n",
            "21/21 [==============================] - 0s 2ms/step - loss: 75.3045\n",
            "Epoch 222/250\n",
            "21/21 [==============================] - 0s 2ms/step - loss: 75.0585\n",
            "Epoch 223/250\n",
            "21/21 [==============================] - 0s 2ms/step - loss: 74.8978\n",
            "Epoch 224/250\n",
            "21/21 [==============================] - 0s 2ms/step - loss: 74.4116\n",
            "Epoch 225/250\n",
            "21/21 [==============================] - 0s 2ms/step - loss: 74.9095\n",
            "Epoch 226/250\n",
            "21/21 [==============================] - 0s 2ms/step - loss: 75.4817\n",
            "Epoch 227/250\n",
            "21/21 [==============================] - 0s 2ms/step - loss: 74.9394\n",
            "Epoch 228/250\n",
            "21/21 [==============================] - 0s 2ms/step - loss: 75.0252\n",
            "Epoch 229/250\n",
            "21/21 [==============================] - 0s 2ms/step - loss: 74.5953\n",
            "Epoch 230/250\n",
            "21/21 [==============================] - 0s 2ms/step - loss: 74.2622\n",
            "Epoch 231/250\n",
            "21/21 [==============================] - 0s 2ms/step - loss: 74.4854\n",
            "Epoch 232/250\n",
            "21/21 [==============================] - 0s 2ms/step - loss: 75.6172\n",
            "Epoch 233/250\n",
            "21/21 [==============================] - 0s 2ms/step - loss: 75.0824\n",
            "Epoch 234/250\n",
            "21/21 [==============================] - 0s 2ms/step - loss: 74.7001\n",
            "Epoch 235/250\n",
            "21/21 [==============================] - 0s 2ms/step - loss: 75.1286\n",
            "Epoch 236/250\n",
            "21/21 [==============================] - 0s 2ms/step - loss: 74.8261\n",
            "Epoch 237/250\n",
            "21/21 [==============================] - 0s 2ms/step - loss: 74.0668\n",
            "Epoch 238/250\n",
            "21/21 [==============================] - 0s 2ms/step - loss: 75.0421\n",
            "Epoch 239/250\n",
            "21/21 [==============================] - 0s 2ms/step - loss: 73.7617\n",
            "Epoch 240/250\n",
            "21/21 [==============================] - 0s 2ms/step - loss: 75.0216\n",
            "Epoch 241/250\n",
            "21/21 [==============================] - 0s 2ms/step - loss: 74.7969\n",
            "Epoch 242/250\n",
            "21/21 [==============================] - 0s 2ms/step - loss: 72.9770\n",
            "Epoch 243/250\n",
            "21/21 [==============================] - 0s 2ms/step - loss: 75.2739\n",
            "Epoch 244/250\n",
            "21/21 [==============================] - 0s 2ms/step - loss: 74.7288\n",
            "Epoch 245/250\n",
            "21/21 [==============================] - 0s 2ms/step - loss: 74.8363\n",
            "Epoch 246/250\n",
            "21/21 [==============================] - 0s 2ms/step - loss: 74.6989\n",
            "Epoch 247/250\n",
            "21/21 [==============================] - 0s 2ms/step - loss: 75.4208\n",
            "Epoch 248/250\n",
            "21/21 [==============================] - 0s 2ms/step - loss: 74.0395\n",
            "Epoch 249/250\n",
            "21/21 [==============================] - 0s 2ms/step - loss: 75.3241\n",
            "Epoch 250/250\n",
            "21/21 [==============================] - 0s 2ms/step - loss: 74.8985\n"
          ]
        },
        {
          "output_type": "execute_result",
          "data": {
            "text/plain": [
              "<keras.src.callbacks.History at 0x7e0536e5fd90>"
            ]
          },
          "metadata": {},
          "execution_count": 17
        }
      ]
    },
    {
      "cell_type": "code",
      "source": [
        "loss = model.history.history[\"loss\"] #loss'un değerlerini sözlük içerisinde verir.\n",
        "# [\"loss\"] ile sözlükten çıktarıp dize haline getirdik"
      ],
      "metadata": {
        "id": "x-jnSy_ysKqS"
      },
      "execution_count": 18,
      "outputs": []
    },
    {
      "cell_type": "code",
      "source": [
        "sns.lineplot(x = range(len(loss)), y = loss)"
      ],
      "metadata": {
        "colab": {
          "base_uri": "https://localhost:8080/",
          "height": 447
        },
        "id": "-8o2b1dBsaXv",
        "outputId": "ec683af3-8ce3-42d4-8e2c-f1a3671fe61c"
      },
      "execution_count": 19,
      "outputs": [
        {
          "output_type": "execute_result",
          "data": {
            "text/plain": [
              "<Axes: >"
            ]
          },
          "metadata": {},
          "execution_count": 19
        },
        {
          "output_type": "display_data",
          "data": {
            "text/plain": [
              "<Figure size 640x480 with 1 Axes>"
            ],
            "image/png": "[encoded data removed]"
          },
          "metadata": {}
        }
      ]
    },
    {
      "cell_type": "code",
      "source": [
        "#modeli modelin kendisinin değerlendirmesi\n",
        "#verbose = yapacağımızın işlemin ne kadar detayını bize geri yazdıracağını sorar. 0 veya 1 veririz.\n",
        "#train ile test loss'larının birbirine yakın çıkması modelin iyi olduğu anlamına gelir\n",
        "\n",
        "trainLoss = model.evaluate(X_train, y_train, verbose = 0)"
      ],
      "metadata": {
        "id": "YTpUvynxtpCb"
      },
      "execution_count": 20,
      "outputs": []
    },
    {
      "cell_type": "code",
      "source": [
        "testLoss = model.evaluate(X_test, y_test, verbose = 0)"
      ],
      "metadata": {
        "id": "RHCJubjhujOp"
      },
      "execution_count": 21,
      "outputs": []
    },
    {
      "cell_type": "code",
      "source": [
        "trainLoss"
      ],
      "metadata": {
        "colab": {
          "base_uri": "https://localhost:8080/"
        },
        "id": "-KFx_zxnusdg",
        "outputId": "e8055447-b69d-4f09-a69f-3dbd60283fbf"
      },
      "execution_count": 22,
      "outputs": [
        {
          "output_type": "execute_result",
          "data": {
            "text/plain": [
              "73.08921813964844"
            ]
          },
          "metadata": {},
          "execution_count": 22
        }
      ]
    },
    {
      "cell_type": "code",
      "source": [
        "testLoss"
      ],
      "metadata": {
        "colab": {
          "base_uri": "https://localhost:8080/"
        },
        "id": "iloMmwgquskz",
        "outputId": "75e3f3eb-1a23-477d-e7f5-b66f1bec1edd"
      },
      "execution_count": 23,
      "outputs": [
        {
          "output_type": "execute_result",
          "data": {
            "text/plain": [
              "77.12116241455078"
            ]
          },
          "metadata": {},
          "execution_count": 23
        }
      ]
    },
    {
      "cell_type": "code",
      "source": [
        "testTahmini = model.predict(X_test) #predict tahmin etmek"
      ],
      "metadata": {
        "colab": {
          "base_uri": "https://localhost:8080/"
        },
        "id": "iAzfS5k4uxhP",
        "outputId": "23d1d75b-2141-41ed-9f57-dd24d1163b84"
      },
      "execution_count": 24,
      "outputs": [
        {
          "output_type": "stream",
          "name": "stdout",
          "text": [
            "11/11 [==============================] - 0s 2ms/step\n"
          ]
        }
      ]
    },
    {
      "cell_type": "code",
      "source": [
        "testTahmini.shape"
      ],
      "metadata": {
        "colab": {
          "base_uri": "https://localhost:8080/"
        },
        "id": "w16SxzigwOhf",
        "outputId": "548ab55a-3081-4e63-c614-608278db44fd"
      },
      "execution_count": 25,
      "outputs": [
        {
          "output_type": "execute_result",
          "data": {
            "text/plain": [
              "(330, 1)"
            ]
          },
          "metadata": {},
          "execution_count": 25
        }
      ]
    },
    {
      "cell_type": "code",
      "source": [
        "testTahmini = pd.Series(testTahmini.reshape(330,))\n"
      ],
      "metadata": {
        "id": "1XOei9dNwW35"
      },
      "execution_count": 26,
      "outputs": []
    },
    {
      "cell_type": "code",
      "source": [
        "testTahmini.head()"
      ],
      "metadata": {
        "colab": {
          "base_uri": "https://localhost:8080/"
        },
        "id": "G7dQuUmWxFv6",
        "outputId": "faf1e60f-294a-42e4-ed0d-000799c330e4"
      },
      "execution_count": 27,
      "outputs": [
        {
          "output_type": "execute_result",
          "data": {
            "text/plain": [
              "0    1077.663452\n",
              "1     623.518738\n",
              "2     875.902466\n",
              "3     893.983582\n",
              "4     899.239807\n",
              "dtype: float32"
            ]
          },
          "metadata": {},
          "execution_count": 27
        }
      ]
    },
    {
      "cell_type": "code",
      "source": [
        "tahminDF = pd.DataFrame(y_test, columns = [\"Gerçek Y\"])"
      ],
      "metadata": {
        "id": "ooW3S3FBxKb3"
      },
      "execution_count": 28,
      "outputs": []
    },
    {
      "cell_type": "code",
      "source": [
        "tahminDF = pd.concat([tahminDF, testTahmini], axis = 1)"
      ],
      "metadata": {
        "id": "O7BkqqYYxWvG"
      },
      "execution_count": 29,
      "outputs": []
    },
    {
      "cell_type": "code",
      "source": [
        "tahminDF.columns = [\"Gerçek Y\", \"Tahmin Y\"]"
      ],
      "metadata": {
        "id": "IUAlLNESxkbq"
      },
      "execution_count": 30,
      "outputs": []
    },
    {
      "cell_type": "code",
      "source": [
        "tahminDF"
      ],
      "metadata": {
        "colab": {
          "base_uri": "https://localhost:8080/",
          "height": 423
        },
        "id": "1CUKavJ_xi83",
        "outputId": "1c77985e-9aab-49e5-db2b-783f584e1532"
      },
      "execution_count": 31,
      "outputs": [
        {
          "output_type": "execute_result",
          "data": {
            "text/plain": [
              "        Gerçek Y     Tahmin Y\n",
              "0    1081.652164  1077.663452\n",
              "1     622.675990   623.518738\n",
              "2     889.356810   875.902466\n",
              "3     902.826733   893.983582\n",
              "4     897.662404   899.239807\n",
              "..           ...          ...\n",
              "325  1028.438035  1013.407410\n",
              "326   789.934950   790.540161\n",
              "327   758.490486   765.718323\n",
              "328  1172.871659  1167.506958\n",
              "329   820.947936   802.470825\n",
              "\n",
              "[330 rows x 2 columns]"
            ],
            "text/html": [
              "\n",
              "  <div id=\"df-1f3500a1-8460-47c6-9c6d-53ef09498e67\" class=\"colab-df-container\">\n",
              "    <div>\n",
              "<style scoped>\n",
              "    .dataframe tbody tr th:only-of-type {\n",
              "        vertical-align: middle;\n",
              "    }\n",
              "\n",
              "    .dataframe tbody tr th {\n",
              "        vertical-align: top;\n",
              "    }\n",
              "\n",
              "    .dataframe thead th {\n",
              "        text-align: right;\n",
              "    }\n",
              "</style>\n",
              "<table border=\"1\" class=\"dataframe\">\n",
              "  <thead>\n",
              "    <tr style=\"text-align: right;\">\n",
              "      <th></th>\n",
              "      <th>Gerçek Y</th>\n",
              "      <th>Tahmin Y</th>\n",
              "    </tr>\n",
              "  </thead>\n",
              "  <tbody>\n",
              "    <tr>\n",
              "      <th>0</th>\n",
              "      <td>1081.652164</td>\n",
              "      <td>1077.663452</td>\n",
              "    </tr>\n",
              "    <tr>\n",
              "      <th>1</th>\n",
              "      <td>622.675990</td>\n",
              "      <td>623.518738</td>\n",
              "    </tr>\n",
              "    <tr>\n",
              "      <th>2</th>\n",
              "      <td>889.356810</td>\n",
              "      <td>875.902466</td>\n",
              "    </tr>\n",
              "    <tr>\n",
              "      <th>3</th>\n",
              "      <td>902.826733</td>\n",
              "      <td>893.983582</td>\n",
              "    </tr>\n",
              "    <tr>\n",
              "      <th>4</th>\n",
              "      <td>897.662404</td>\n",
              "      <td>899.239807</td>\n",
              "    </tr>\n",
              "    <tr>\n",
              "      <th>...</th>\n",
              "      <td>...</td>\n",
              "      <td>...</td>\n",
              "    </tr>\n",
              "    <tr>\n",
              "      <th>325</th>\n",
              "      <td>1028.438035</td>\n",
              "      <td>1013.407410</td>\n",
              "    </tr>\n",
              "    <tr>\n",
              "      <th>326</th>\n",
              "      <td>789.934950</td>\n",
              "      <td>790.540161</td>\n",
              "    </tr>\n",
              "    <tr>\n",
              "      <th>327</th>\n",
              "      <td>758.490486</td>\n",
              "      <td>765.718323</td>\n",
              "    </tr>\n",
              "    <tr>\n",
              "      <th>328</th>\n",
              "      <td>1172.871659</td>\n",
              "      <td>1167.506958</td>\n",
              "    </tr>\n",
              "    <tr>\n",
              "      <th>329</th>\n",
              "      <td>820.947936</td>\n",
              "      <td>802.470825</td>\n",
              "    </tr>\n",
              "  </tbody>\n",
              "</table>\n",
              "<p>330 rows × 2 columns</p>\n",
              "</div>\n",
              "    <div class=\"colab-df-buttons\">\n",
              "\n",
              "  <div class=\"colab-df-container\">\n",
              "    <button class=\"colab-df-convert\" onclick=\"convertToInteractive('df-1f3500a1-8460-47c6-9c6d-53ef09498e67')\"\n",
              "            title=\"Convert this dataframe to an interactive table.\"\n",
              "            style=\"display:none;\">\n",
              "\n",
              "  <svg xmlns=\"http://www.w3.org/2000/svg\" height=\"24px\" viewBox=\"0 -960 960 960\">\n",
              "    <path d=\"M120-120v-720h720v720H120Zm60-500h600v-160H180v160Zm220 220h160v-160H400v160Zm0 220h160v-160H400v160ZM180-400h160v-160H180v160Zm440 0h160v-160H620v160ZM180-180h160v-160H180v160Zm440 0h160v-160H620v160Z\"/>\n",
              "  </svg>\n",
              "    </button>\n",
              "\n",
              "  <style>\n",
              "    .colab-df-container {\n",
              "      display:flex;\n",
              "      gap: 12px;\n",
              "    }\n",
              "\n",
              "    .colab-df-convert {\n",
              "      background-color: #E8F0FE;\n",
              "      border: none;\n",
              "      border-radius: 50%;\n",
              "      cursor: pointer;\n",
              "      display: none;\n",
              "      fill: #1967D2;\n",
              "      height: 32px;\n",
              "      padding: 0 0 0 0;\n",
              "      width: 32px;\n",
              "    }\n",
              "\n",
              "    .colab-df-convert:hover {\n",
              "      background-color: #E2EBFA;\n",
              "      box-shadow: 0px 1px 2px rgba(60, 64, 67, 0.3), 0px 1px 3px 1px rgba(60, 64, 67, 0.15);\n",
              "      fill: #174EA6;\n",
              "    }\n",
              "\n",
              "    .colab-df-buttons div {\n",
              "      margin-bottom: 4px;\n",
              "    }\n",
              "\n",
              "    [theme=dark] .colab-df-convert {\n",
              "      background-color: #3B4455;\n",
              "      fill: #D2E3FC;\n",
              "    }\n",
              "\n",
              "    [theme=dark] .colab-df-convert:hover {\n",
              "      background-color: #434B5C;\n",
              "      box-shadow: 0px 1px 3px 1px rgba(0, 0, 0, 0.15);\n",
              "      filter: drop-shadow(0px 1px 2px rgba(0, 0, 0, 0.3));\n",
              "      fill: #FFFFFF;\n",
              "    }\n",
              "  </style>\n",
              "\n",
              "    <script>\n",
              "      const buttonEl =\n",
              "        document.querySelector('#df-1f3500a1-8460-47c6-9c6d-53ef09498e67 button.colab-df-convert');\n",
              "      buttonEl.style.display =\n",
              "        google.colab.kernel.accessAllowed ? 'block' : 'none';\n",
              "\n",
              "      async function convertToInteractive(key) {\n",
              "        const element = document.querySelector('#df-1f3500a1-8460-47c6-9c6d-53ef09498e67');\n",
              "        const dataTable =\n",
              "          await google.colab.kernel.invokeFunction('convertToInteractive',\n",
              "                                                    [key], {});\n",
              "        if (!dataTable) return;\n",
              "\n",
              "        const docLinkHtml = 'Like what you see? Visit the ' +\n",
              "          '<a target=\"_blank\" href=https://colab.research.google.com/notebooks/data_table.ipynb>data table notebook</a>'\n",
              "          + ' to learn more about interactive tables.';\n",
              "        element.innerHTML = '';\n",
              "        dataTable['output_type'] = 'display_data';\n",
              "        await google.colab.output.renderOutput(dataTable, element);\n",
              "        const docLink = document.createElement('div');\n",
              "        docLink.innerHTML = docLinkHtml;\n",
              "        element.appendChild(docLink);\n",
              "      }\n",
              "    </script>\n",
              "  </div>\n",
              "\n",
              "\n",
              "<div id=\"df-c7474e5b-0c52-41bf-a303-b175e04a7831\">\n",
              "  <button class=\"colab-df-quickchart\" onclick=\"quickchart('df-c7474e5b-0c52-41bf-a303-b175e04a7831')\"\n",
              "            title=\"Suggest charts.\"\n",
              "            style=\"display:none;\">\n",
              "\n",
              "<svg xmlns=\"http://www.w3.org/2000/svg\" height=\"24px\"viewBox=\"0 0 24 24\"\n",
              "     width=\"24px\">\n",
              "    <g>\n",
              "        <path d=\"M19 3H5c-1.1 0-2 .9-2 2v14c0 1.1.9 2 2 2h14c1.1 0 2-.9 2-2V5c0-1.1-.9-2-2-2zM9 17H7v-7h2v7zm4 0h-2V7h2v10zm4 0h-2v-4h2v4z\"/>\n",
              "    </g>\n",
              "</svg>\n",
              "  </button>\n",
              "\n",
              "<style>\n",
              "  .colab-df-quickchart {\n",
              "      --bg-color: #E8F0FE;\n",
              "      --fill-color: #1967D2;\n",
              "      --hover-bg-color: #E2EBFA;\n",
              "      --hover-fill-color: #174EA6;\n",
              "      --disabled-fill-color: #AAA;\n",
              "      --disabled-bg-color: #DDD;\n",
              "  }\n",
              "\n",
              "  [theme=dark] .colab-df-quickchart {\n",
              "      --bg-color: #3B4455;\n",
              "      --fill-color: #D2E3FC;\n",
              "      --hover-bg-color: #434B5C;\n",
              "      --hover-fill-color: #FFFFFF;\n",
              "      --disabled-bg-color: #3B4455;\n",
              "      --disabled-fill-color: #666;\n",
              "  }\n",
              "\n",
              "  .colab-df-quickchart {\n",
              "    background-color: var(--bg-color);\n",
              "    border: none;\n",
              "    border-radius: 50%;\n",
              "    cursor: pointer;\n",
              "    display: none;\n",
              "    fill: var(--fill-color);\n",
              "    height: 32px;\n",
              "    padding: 0;\n",
              "    width: 32px;\n",
              "  }\n",
              "\n",
              "  .colab-df-quickchart:hover {\n",
              "    background-color: var(--hover-bg-color);\n",
              "    box-shadow: 0 1px 2px rgba(60, 64, 67, 0.3), 0 1px 3px 1px rgba(60, 64, 67, 0.15);\n",
              "    fill: var(--button-hover-fill-color);\n",
              "  }\n",
              "\n",
              "  .colab-df-quickchart-complete:disabled,\n",
              "  .colab-df-quickchart-complete:disabled:hover {\n",
              "    background-color: var(--disabled-bg-color);\n",
              "    fill: var(--disabled-fill-color);\n",
              "    box-shadow: none;\n",
              "  }\n",
              "\n",
              "  .colab-df-spinner {\n",
              "    border: 2px solid var(--fill-color);\n",
              "    border-color: transparent;\n",
              "    border-bottom-color: var(--fill-color);\n",
              "    animation:\n",
              "      spin 1s steps(1) infinite;\n",
              "  }\n",
              "\n",
              "  @keyframes spin {\n",
              "    0% {\n",
              "      border-color: transparent;\n",
              "      border-bottom-color: var(--fill-color);\n",
              "      border-left-color: var(--fill-color);\n",
              "    }\n",
              "    20% {\n",
              "      border-color: transparent;\n",
              "      border-left-color: var(--fill-color);\n",
              "      border-top-color: var(--fill-color);\n",
              "    }\n",
              "    30% {\n",
              "      border-color: transparent;\n",
              "      border-left-color: var(--fill-color);\n",
              "      border-top-color: var(--fill-color);\n",
              "      border-right-color: var(--fill-color);\n",
              "    }\n",
              "    40% {\n",
              "      border-color: transparent;\n",
              "      border-right-color: var(--fill-color);\n",
              "      border-top-color: var(--fill-color);\n",
              "    }\n",
              "    60% {\n",
              "      border-color: transparent;\n",
              "      border-right-color: var(--fill-color);\n",
              "    }\n",
              "    80% {\n",
              "      border-color: transparent;\n",
              "      border-right-color: var(--fill-color);\n",
              "      border-bottom-color: var(--fill-color);\n",
              "    }\n",
              "    90% {\n",
              "      border-color: transparent;\n",
              "      border-bottom-color: var(--fill-color);\n",
              "    }\n",
              "  }\n",
              "</style>\n",
              "\n",
              "  <script>\n",
              "    async function quickchart(key) {\n",
              "      const quickchartButtonEl =\n",
              "        document.querySelector('#' + key + ' button');\n",
              "      quickchartButtonEl.disabled = true;  // To prevent multiple clicks.\n",
              "      quickchartButtonEl.classList.add('colab-df-spinner');\n",
              "      try {\n",
              "        const charts = await google.colab.kernel.invokeFunction(\n",
              "            'suggestCharts', [key], {});\n",
              "      } catch (error) {\n",
              "        console.error('Error during call to suggestCharts:', error);\n",
              "      }\n",
              "      quickchartButtonEl.classList.remove('colab-df-spinner');\n",
              "      quickchartButtonEl.classList.add('colab-df-quickchart-complete');\n",
              "    }\n",
              "    (() => {\n",
              "      let quickchartButtonEl =\n",
              "        document.querySelector('#df-c7474e5b-0c52-41bf-a303-b175e04a7831 button');\n",
              "      quickchartButtonEl.style.display =\n",
              "        google.colab.kernel.accessAllowed ? 'block' : 'none';\n",
              "    })();\n",
              "  </script>\n",
              "</div>\n",
              "    </div>\n",
              "  </div>\n"
            ]
          },
          "metadata": {},
          "execution_count": 31
        }
      ]
    },
    {
      "cell_type": "code",
      "source": [
        "sns.scatterplot(x = \"Gerçek Y\", y = \"Tahmin Y\", data = tahminDF)"
      ],
      "metadata": {
        "colab": {
          "base_uri": "https://localhost:8080/",
          "height": 466
        },
        "id": "YTgN32TyyBRh",
        "outputId": "3be33217-ee5e-49be-97c9-0b2432dd0c28"
      },
      "execution_count": 32,
      "outputs": [
        {
          "output_type": "execute_result",
          "data": {
            "text/plain": [
              "<Axes: xlabel='Gerçek Y', ylabel='Tahmin Y'>"
            ]
          },
          "metadata": {},
          "execution_count": 32
        },
        {
          "output_type": "display_data",
          "data": {
            "text/plain": [
              "<Figure size 640x480 with 1 Axes>"
            ],
            "image/png": "[encoded data removed]"
          },
          "metadata": {}
        }
      ]
    },
    {
      "cell_type": "markdown",
      "source": [
        "##Hata Fonksiyonu"
      ],
      "metadata": {
        "id": "h7RlNokA0p4e"
      }
    },
    {
      "cell_type": "code",
      "source": [
        "from sklearn.metrics import mean_absolute_error, mean_squared_error\n"
      ],
      "metadata": {
        "id": "jydpj2jHzNLb"
      },
      "execution_count": 33,
      "outputs": []
    },
    {
      "cell_type": "code",
      "source": [
        "mean_squared_error(tahminDF[\"Gerçek Y\"], tahminDF[\"Tahmin Y\"])"
      ],
      "metadata": {
        "colab": {
          "base_uri": "https://localhost:8080/"
        },
        "id": "Ohhb_j-BzgNJ",
        "outputId": "f34c21e7-6b48-41f3-bbe6-632be1d35f66"
      },
      "execution_count": 34,
      "outputs": [
        {
          "output_type": "execute_result",
          "data": {
            "text/plain": [
              "77.12117982688915"
            ]
          },
          "metadata": {},
          "execution_count": 34
        }
      ]
    },
    {
      "cell_type": "code",
      "source": [
        "mean_absolute_error(tahminDF[\"Gerçek Y\"], tahminDF[\"Tahmin Y\"])"
      ],
      "metadata": {
        "colab": {
          "base_uri": "https://localhost:8080/"
        },
        "id": "nPtBdjvPzh2F",
        "outputId": "ebd685cc-50e3-4873-8ebd-24d70422615e"
      },
      "execution_count": 35,
      "outputs": [
        {
          "output_type": "execute_result",
          "data": {
            "text/plain": [
              "7.037434827163824"
            ]
          },
          "metadata": {},
          "execution_count": 35
        }
      ]
    },
    {
      "cell_type": "markdown",
      "source": [
        "##Model Tahmini"
      ],
      "metadata": {
        "id": "acWUcZqc0o9b"
      }
    },
    {
      "cell_type": "code",
      "source": [
        "yenibisiklet = [[1750,1749]]"
      ],
      "metadata": {
        "id": "VTi2JyhN0yPn"
      },
      "execution_count": 36,
      "outputs": []
    },
    {
      "cell_type": "code",
      "source": [
        "yenibisiklet = scaler.transform(yenibisiklet)"
      ],
      "metadata": {
        "id": "P9tnUXOq04lE"
      },
      "execution_count": 37,
      "outputs": []
    },
    {
      "cell_type": "code",
      "source": [
        "model.predict(yenibisiklet)"
      ],
      "metadata": {
        "colab": {
          "base_uri": "https://localhost:8080/"
        },
        "id": "IXH4zpeW097x",
        "outputId": "3dc8f0ea-96a6-430e-fa61-58428e543621"
      },
      "execution_count": 38,
      "outputs": [
        {
          "output_type": "stream",
          "name": "stdout",
          "text": [
            "1/1 [==============================] - 0s 21ms/step\n"
          ]
        },
        {
          "output_type": "execute_result",
          "data": {
            "text/plain": [
              "array([[785.47296]], dtype=float32)"
            ]
          },
          "metadata": {},
          "execution_count": 38
        }
      ]
    },
    {
      "cell_type": "markdown",
      "source": [
        "##Modeli kaydedip sonra çağırmak"
      ],
      "metadata": {
        "id": "h16C3o7O1Dc7"
      }
    },
    {
      "cell_type": "code",
      "source": [
        "from tensorflow.keras.models import load_model"
      ],
      "metadata": {
        "id": "D8ojJ99H1LE7"
      },
      "execution_count": 39,
      "outputs": []
    },
    {
      "cell_type": "code",
      "source": [
        "model.save(\"bisiklet_modeli.h5\")"
      ],
      "metadata": {
        "colab": {
          "base_uri": "https://localhost:8080/"
        },
        "id": "ZMBDg0bV1Rod",
        "outputId": "1d5e4f66-7806-4b02-e20e-9021657b7b52"
      },
      "execution_count": 40,
      "outputs": [
        {
          "output_type": "stream",
          "name": "stderr",
          "text": [
            "/usr/local/lib/python3.10/dist-packages/keras/src/engine/training.py:3000: UserWarning: You are saving your model as an HDF5 file via `model.save()`. This file format is considered legacy. We recommend using instead the native Keras format, e.g. `model.save('my_model.keras')`.\n",
            "  saving_api.save_model(\n"
          ]
        }
      ]
    },
    {
      "cell_type": "code",
      "source": [
        "sonradan_cagırma = load_model(\"bisiklet_modeli.h5\")"
      ],
      "metadata": {
        "id": "kDOL9ypi1X3L"
      },
      "execution_count": 41,
      "outputs": []
    },
    {
      "cell_type": "code",
      "source": [
        "sonradan_cagırma.predict(yenibisiklet)"
      ],
      "metadata": {
        "colab": {
          "base_uri": "https://localhost:8080/"
        },
        "id": "5U36eubh1e2D",
        "outputId": "f72d9197-a50b-4f34-bdf6-a9ad6266cf30"
      },
      "execution_count": 42,
      "outputs": [
        {
          "output_type": "stream",
          "name": "stdout",
          "text": [
            "1/1 [==============================] - 0s 61ms/step\n"
          ]
        },
        {
          "output_type": "execute_result",
          "data": {
            "text/plain": [
              "array([[785.47296]], dtype=float32)"
            ]
          },
          "metadata": {},
          "execution_count": 42
        }
      ]
    }
  ]
}